{
  "nbformat": 4,
  "nbformat_minor": 0,
  "metadata": {
    "colab": {
      "name": "LogisticModel.ipynb",
      "provenance": [],
      "collapsed_sections": []
    },
    "kernelspec": {
      "name": "python3",
      "display_name": "Python 3"
    },
    "language_info": {
      "name": "python"
    }
  },
  "cells": [
    {
      "cell_type": "markdown",
      "metadata": {
        "id": "dDRjhnpdq3IO"
      },
      "source": [
        "Importing libraries and data"
      ]
    },
    {
      "cell_type": "code",
      "metadata": {
        "colab": {
          "base_uri": "https://localhost:8080/"
        },
        "id": "_Gk24aEgoepe",
        "outputId": "a8bf8ad1-7072-4650-cb95-3391b3177a66"
      },
      "source": [
        "import pandas as pd\n",
        "import matplotlib.pyplot as plt\n",
        "import numpy as np\n",
        "import os\n",
        "from google.colab import drive\n",
        "drive.mount('gdrive')"
      ],
      "execution_count": null,
      "outputs": [
        {
          "output_type": "stream",
          "text": [
            "Mounted at gdrive\n"
          ],
          "name": "stdout"
        }
      ]
    },
    {
      "cell_type": "code",
      "metadata": {
        "id": "AjXm4eO5pIsu"
      },
      "source": [
        "path = '/content/gdrive/My Drive/intern_dataset'\n",
        "data_file = os.path.join(path, \"heart_failure_clinical_records_dataset.csv\")\n",
        "heart = pd.read_csv(data_file)\n"
      ],
      "execution_count": null,
      "outputs": []
    },
    {
      "cell_type": "code",
      "metadata": {
        "colab": {
          "base_uri": "https://localhost:8080/",
          "height": 224
        },
        "id": "lawajlNZrOBv",
        "outputId": "df9772a4-ecfe-493c-a637-6df4e9ac2373"
      },
      "source": [
        "heart.head()"
      ],
      "execution_count": null,
      "outputs": [
        {
          "output_type": "execute_result",
          "data": {
            "text/html": [
              "<div>\n",
              "<style scoped>\n",
              "    .dataframe tbody tr th:only-of-type {\n",
              "        vertical-align: middle;\n",
              "    }\n",
              "\n",
              "    .dataframe tbody tr th {\n",
              "        vertical-align: top;\n",
              "    }\n",
              "\n",
              "    .dataframe thead th {\n",
              "        text-align: right;\n",
              "    }\n",
              "</style>\n",
              "<table border=\"1\" class=\"dataframe\">\n",
              "  <thead>\n",
              "    <tr style=\"text-align: right;\">\n",
              "      <th></th>\n",
              "      <th>age</th>\n",
              "      <th>anaemia</th>\n",
              "      <th>creatinine_phosphokinase</th>\n",
              "      <th>diabetes</th>\n",
              "      <th>ejection_fraction</th>\n",
              "      <th>high_blood_pressure</th>\n",
              "      <th>platelets</th>\n",
              "      <th>serum_creatinine</th>\n",
              "      <th>serum_sodium</th>\n",
              "      <th>sex</th>\n",
              "      <th>smoking</th>\n",
              "      <th>time</th>\n",
              "      <th>DEATH_EVENT</th>\n",
              "    </tr>\n",
              "  </thead>\n",
              "  <tbody>\n",
              "    <tr>\n",
              "      <th>0</th>\n",
              "      <td>75.0</td>\n",
              "      <td>0</td>\n",
              "      <td>582</td>\n",
              "      <td>0</td>\n",
              "      <td>20</td>\n",
              "      <td>1</td>\n",
              "      <td>265000.00</td>\n",
              "      <td>1.9</td>\n",
              "      <td>130</td>\n",
              "      <td>1</td>\n",
              "      <td>0</td>\n",
              "      <td>4</td>\n",
              "      <td>1</td>\n",
              "    </tr>\n",
              "    <tr>\n",
              "      <th>1</th>\n",
              "      <td>55.0</td>\n",
              "      <td>0</td>\n",
              "      <td>7861</td>\n",
              "      <td>0</td>\n",
              "      <td>38</td>\n",
              "      <td>0</td>\n",
              "      <td>263358.03</td>\n",
              "      <td>1.1</td>\n",
              "      <td>136</td>\n",
              "      <td>1</td>\n",
              "      <td>0</td>\n",
              "      <td>6</td>\n",
              "      <td>1</td>\n",
              "    </tr>\n",
              "    <tr>\n",
              "      <th>2</th>\n",
              "      <td>65.0</td>\n",
              "      <td>0</td>\n",
              "      <td>146</td>\n",
              "      <td>0</td>\n",
              "      <td>20</td>\n",
              "      <td>0</td>\n",
              "      <td>162000.00</td>\n",
              "      <td>1.3</td>\n",
              "      <td>129</td>\n",
              "      <td>1</td>\n",
              "      <td>1</td>\n",
              "      <td>7</td>\n",
              "      <td>1</td>\n",
              "    </tr>\n",
              "    <tr>\n",
              "      <th>3</th>\n",
              "      <td>50.0</td>\n",
              "      <td>1</td>\n",
              "      <td>111</td>\n",
              "      <td>0</td>\n",
              "      <td>20</td>\n",
              "      <td>0</td>\n",
              "      <td>210000.00</td>\n",
              "      <td>1.9</td>\n",
              "      <td>137</td>\n",
              "      <td>1</td>\n",
              "      <td>0</td>\n",
              "      <td>7</td>\n",
              "      <td>1</td>\n",
              "    </tr>\n",
              "    <tr>\n",
              "      <th>4</th>\n",
              "      <td>65.0</td>\n",
              "      <td>1</td>\n",
              "      <td>160</td>\n",
              "      <td>1</td>\n",
              "      <td>20</td>\n",
              "      <td>0</td>\n",
              "      <td>327000.00</td>\n",
              "      <td>2.7</td>\n",
              "      <td>116</td>\n",
              "      <td>0</td>\n",
              "      <td>0</td>\n",
              "      <td>8</td>\n",
              "      <td>1</td>\n",
              "    </tr>\n",
              "  </tbody>\n",
              "</table>\n",
              "</div>"
            ],
            "text/plain": [
              "    age  anaemia  creatinine_phosphokinase  ...  smoking  time  DEATH_EVENT\n",
              "0  75.0        0                       582  ...        0     4            1\n",
              "1  55.0        0                      7861  ...        0     6            1\n",
              "2  65.0        0                       146  ...        1     7            1\n",
              "3  50.0        1                       111  ...        0     7            1\n",
              "4  65.0        1                       160  ...        0     8            1\n",
              "\n",
              "[5 rows x 13 columns]"
            ]
          },
          "metadata": {
            "tags": []
          },
          "execution_count": 4
        }
      ]
    },
    {
      "cell_type": "markdown",
      "metadata": {
        "id": "NhUppgTGsyJK"
      },
      "source": [
        "Separating x and y from datasets"
      ]
    },
    {
      "cell_type": "code",
      "metadata": {
        "id": "PCFzbWVKrU2j"
      },
      "source": [
        "y = heart['DEATH_EVENT']"
      ],
      "execution_count": null,
      "outputs": []
    },
    {
      "cell_type": "code",
      "metadata": {
        "id": "Vngb3ql5sAez"
      },
      "source": [
        "x = heart.iloc[:,:-1]\n",
        "x = (x -x.mean())/x.std() \n",
        "x = np.c_[np.ones(x.shape[0]), x]"
      ],
      "execution_count": null,
      "outputs": []
    },
    {
      "cell_type": "code",
      "metadata": {
        "colab": {
          "base_uri": "https://localhost:8080/"
        },
        "id": "Mfd4HynjsGRh",
        "outputId": "32d534d6-7b41-438b-9499-3d07061b22ff"
      },
      "source": [
        "x"
      ],
      "execution_count": null,
      "outputs": [
        {
          "output_type": "execute_result",
          "data": {
            "text/plain": [
              "array([[ 1.        ,  1.19094867, -0.86964686, ...,  0.73445691,\n",
              "        -0.68653097, -1.62677521],\n",
              "       [ 1.        , -0.49045705, -0.86964686, ...,  0.73445691,\n",
              "        -0.68653097, -1.60100673],\n",
              "       [ 1.        ,  0.35024581, -0.86964686, ...,  0.73445691,\n",
              "         1.45172695, -1.58812249],\n",
              "       ...,\n",
              "       [ 1.        , -1.33115991, -0.86964686, ..., -1.35699658,\n",
              "        -0.68653097,  1.90350626],\n",
              "       [ 1.        , -1.33115991, -0.86964686, ...,  0.73445691,\n",
              "         1.45172695,  1.92927473],\n",
              "       [ 1.        , -0.91080848, -0.86964686, ...,  0.73445691,\n",
              "         1.45172695,  1.99369593]])"
            ]
          },
          "metadata": {
            "tags": []
          },
          "execution_count": 10
        }
      ]
    },
    {
      "cell_type": "markdown",
      "metadata": {
        "id": "-AzifqGas4bG"
      },
      "source": [
        "Logistic Regression Model"
      ]
    },
    {
      "cell_type": "code",
      "metadata": {
        "id": "xkyFGHbOsHBB"
      },
      "source": [
        "class LogisticRegression:\n",
        "    def __init__(self, alpha =0.01):\n",
        "\n",
        "        self.alpha = alpha # learning rate \n",
        "        self.hist_loss =[] # empty list for loss histroy \n",
        "        self.hist_param = []  # empty list for parameter updates\n",
        "\n",
        "\n",
        "    def fit_gd(self,x, y, iterations):\n",
        "\n",
        "      \"\"\"\n",
        "      This fit function works for a gradident decent\n",
        "      x : input feature  (m , d), where m = number of data points and d = dimension of the data \n",
        "      y : target value (m ,)\n",
        "      interations : int , number of interation point) \n",
        "      \"\"\"\n",
        "      self.theta =  np.random.rand(x.shape[1])\n",
        "      m = y.size\n",
        "      for it in range(iterations):\n",
        "        prediction = 1.0 / (1.0 + np.exp((-1) *np.dot(x, self.theta)))\n",
        "        error = prediction - y\n",
        "        loss = (-1)*np.sum((y*np.log(prediction)) + ((1-y)*np.log(1-prediction))) / (m)\n",
        "        self.hist_loss.append(loss)\n",
        "        self.theta = self.theta - (self.alpha * (1/m) * np.dot(x.T, error))\n",
        "        if it%50 ==0:\n",
        "          print(f\"it: {it}, train_loss: {loss})\")\n",
        "        self.hist_param.append(self.theta)\n",
        "\n",
        "    def fit_sgd(self,x, y, iterations):\n",
        "      \"\"\"\n",
        "      This fit function works for a  Stocashtic gradident Decent, where we uptimized the parameters using \n",
        "      single observation \n",
        "\n",
        "      x : input feature  (m , d), where m = number of data points and d = dimension of the data \n",
        "      y : target value (m ,)\n",
        "      interations : int , number of interation point) \n",
        "      \"\"\"\n",
        "      self.theta =  np.random.rand(x.shape[1])\n",
        "      m = y.size\n",
        "      for it in range(iterations):\n",
        "        loss = 0.0\n",
        "        for i in range(m):\n",
        "            rand_ind = np.random.randint(0,m)  # updating  with one sample at a time\n",
        "            x_i = x[rand_ind,:] \n",
        "            y_i = y[rand_ind]\n",
        "            prediction = np.dot(x_i, self.theta)\n",
        "            error = prediction - y_i\n",
        "            loss =+1/2 * np.dot(error.T, error) \n",
        "            self.theta = self.theta - (self.alpha * np.dot(x_i.T, error))\n",
        "        self.hist_loss.append(loss)\n",
        "        if it%200 ==0:\n",
        "          print(f\"it: {it}, train_loss: {loss})\")\n",
        "        self.hist_param.append(self.theta)\n",
        "\n",
        "    def fit_batch_sgd(self, x, y, iterations, batch_size = 5):\n",
        "        \"\"\"\n",
        "        This fit function works for a  Stocashtic gradident Decent with batch, where we uptimized the parameters using handful of samples. It is very efficient \n",
        "        for large dataset\n",
        "      \n",
        "        x : input feature  (m , d), where m = number of data points and d = dimension of the data \n",
        "        y : target value (m ,)\n",
        "        interations : int , number of interation point) \n",
        "        \"\"\" \n",
        "        self.theta =  np.random.rand(x.shape[1])\n",
        "        m = y.size\n",
        "        n_batch = int(x.shape[0]/batch_size)\n",
        "        for it in range(iterations):\n",
        "              rand_indices = np.random.choice(range(m), size= batch_size) \n",
        "              x_b = x[rand_indices] \n",
        "              y_b = y[rand_indices]\n",
        "              prediction = np.dot(x_b, self.theta)\n",
        "              error = prediction - y_b\n",
        "              loss =+1/(2*batch_size) * np.dot(error.T, error) \n",
        "              self.theta = self.theta - (self.alpha * np.dot(x_b.T, error))\n",
        "              self.hist_loss.append(loss)\n",
        "              if it%100 ==0:\n",
        "                print(f\"it: {it}, train_loss: {loss})\")\n",
        "              self.hist_param.append(self.theta)\n",
        "\n",
        "    \n",
        "    def predict(self, x):\n",
        "        return 1.0 / (1.0 + np.exp((-1) *np.dot(x, self.theta)))"
      ],
      "execution_count": 29,
      "outputs": []
    },
    {
      "cell_type": "code",
      "metadata": {
        "colab": {
          "base_uri": "https://localhost:8080/"
        },
        "id": "5WcopPb_LjV_",
        "outputId": "4e62020e-0c8f-41ae-985d-1f498a1b4829"
      },
      "source": [
        "alpha = 0.001 #Step size\n",
        "iterations = 2000 #No. of iterations\n",
        "np.random.seed(123) #Set the seed\n",
        "lm =LogisticRegression(alpha= alpha) \n",
        "lm.fit_gd(x, y, iterations=iterations)\n",
        "yhat = lm.predict(x)"
      ],
      "execution_count": 30,
      "outputs": [
        {
          "output_type": "stream",
          "text": [
            "it: 0, train_loss: 1.2248906224812401)\n",
            "it: 50, train_loss: 1.2104910510955629)\n",
            "it: 100, train_loss: 1.1962873407276222)\n",
            "it: 150, train_loss: 1.182279097194776)\n",
            "it: 200, train_loss: 1.1684658671777437)\n",
            "it: 250, train_loss: 1.1548471383606593)\n",
            "it: 300, train_loss: 1.1414223396191308)\n",
            "it: 350, train_loss: 1.1281908412590775)\n",
            "it: 400, train_loss: 1.1151519553092777)\n",
            "it: 450, train_loss: 1.1023049358707318)\n",
            "it: 500, train_loss: 1.0896489795260744)\n",
            "it: 550, train_loss: 1.077183225812366)\n",
            "it: 600, train_loss: 1.064906757760597)\n",
            "it: 650, train_loss: 1.0528186025051822)\n",
            "it: 700, train_loss: 1.0409177319664953)\n",
            "it: 750, train_loss: 1.0292030636092107)\n",
            "it: 800, train_loss: 1.0176734612787353)\n",
            "it: 850, train_loss: 1.0063277361174283)\n",
            "it: 900, train_loss: 0.9951646475615809)\n",
            "it: 950, train_loss: 0.9841829044192959)\n",
            "it: 1000, train_loss: 0.9733811660284771)\n",
            "it: 1050, train_loss: 0.9627580434931575)\n",
            "it: 1100, train_loss: 0.9523121009953877)\n",
            "it: 1150, train_loss: 0.9420418571789094)\n",
            "it: 1200, train_loss: 0.9319457865999045)\n",
            "it: 1250, train_loss: 0.9220223212392422)\n",
            "it: 1300, train_loss: 0.9122698520699404)\n",
            "it: 1350, train_loss: 0.9026867306729569)\n",
            "it: 1400, train_loss: 0.8932712708940479)\n",
            "it: 1450, train_loss: 0.8840217505342065)\n",
            "it: 1500, train_loss: 0.8749364130661904)\n",
            "it: 1550, train_loss: 0.8660134693698351)\n",
            "it: 1600, train_loss: 0.8572510994792186)\n",
            "it: 1650, train_loss: 0.848647454335289)\n",
            "it: 1700, train_loss: 0.8402006575382626)\n",
            "it: 1750, train_loss: 0.8319088070948993)\n",
            "it: 1800, train_loss: 0.8237699771566551)\n",
            "it: 1850, train_loss: 0.8157822197456458)\n",
            "it: 1900, train_loss: 0.8079435664662928)\n",
            "it: 1950, train_loss: 0.8002520302014359)\n"
          ],
          "name": "stdout"
        }
      ]
    },
    {
      "cell_type": "markdown",
      "metadata": {
        "id": "_G442nCzOzlN"
      },
      "source": [
        "Plot between predicted value  and orginal value "
      ]
    },
    {
      "cell_type": "code",
      "metadata": {
        "colab": {
          "base_uri": "https://localhost:8080/",
          "height": 518
        },
        "id": "QzI4otuRL4NK",
        "outputId": "d0d9a72a-152e-4e72-8aac-5d794a51a772"
      },
      "source": [
        "plt.figure(figsize=(12, 8))\n",
        "plt.scatter(yhat, y)\n",
        "plt.ylabel('$Original  price$')\n",
        "plt.xlabel('$predicted  price$')\n"
      ],
      "execution_count": 31,
      "outputs": [
        {
          "output_type": "execute_result",
          "data": {
            "text/plain": [
              "Text(0.5, 0, '$predicted  price$')"
            ]
          },
          "metadata": {
            "tags": []
          },
          "execution_count": 31
        },
        {
          "output_type": "display_data",
          "data": {
            "image/png": "[encoded data removed]",
            "text/plain": [
              "<Figure size 864x576 with 1 Axes>"
            ]
          },
          "metadata": {
            "tags": [],
            "needs_background": "light"
          }
        }
      ]
    },
    {
      "cell_type": "markdown",
      "metadata": {
        "id": "PNAP4ZAYPECy"
      },
      "source": [
        "Plot training loss function with iterations"
      ]
    },
    {
      "cell_type": "code",
      "metadata": {
        "colab": {
          "base_uri": "https://localhost:8080/",
          "height": 518
        },
        "id": "b2cHvBVoO6Kl",
        "outputId": "f3dd924e-be16-4b85-c775-8117b645db6f"
      },
      "source": [
        "plt.figure(figsize=(12, 8))\n",
        "loss_history = lm.hist_loss\n",
        "num_iternation = list(range(len(loss_history)))\n",
        "plt.scatter(num_iternation, loss_history)\n",
        "plt.xlabel('$num_iteration$')\n",
        "plt.ylabel('$J(\\\\theta)$')"
      ],
      "execution_count": 32,
      "outputs": [
        {
          "output_type": "execute_result",
          "data": {
            "text/plain": [
              "Text(0, 0.5, '$J(\\\\theta)$')"
            ]
          },
          "metadata": {
            "tags": []
          },
          "execution_count": 32
        },
        {
          "output_type": "display_data",
          "data": {
            "image/png": "[encoded data removed]",
            "text/plain": [
              "<Figure size 864x576 with 1 Axes>"
            ]
          },
          "metadata": {
            "tags": [],
            "needs_background": "light"
          }
        }
      ]
    },
    {
      "cell_type": "code",
      "metadata": {
        "id": "1qiH6sEpPJgj"
      },
      "source": [
        ""
      ],
      "execution_count": null,
      "outputs": []
    }
  ]
}